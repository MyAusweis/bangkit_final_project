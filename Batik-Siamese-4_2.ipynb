{
 "cells": [
  {
   "cell_type": "code",
   "execution_count": 0,
   "metadata": {
    "colab": {},
    "colab_type": "code",
    "id": "g9l3iThLGU-x"
   },
   "outputs": [],
   "source": [
    "# -*- encoding: utf-8 -*-\n",
    "import random\n",
    "import numpy as np\n",
    "import time\n",
    "import matplotlib.pyplot as plt\n",
    "import pickle\n",
    "import tensorflow as tf\n",
    "import os\n",
    "from tensorflow.keras.preprocessing.image import load_img, img_to_array\n",
    "from tensorflow.keras.layers import Lambda\n",
    "import re\n",
    "\n"
   ]
  },
  {
   "cell_type": "code",
   "execution_count": 0,
   "metadata": {
    "colab": {},
    "colab_type": "code",
    "id": "dye-m84rF1o8"
   },
   "outputs": [],
   "source": [
    "data_dir = './Batik300'\n",
    "value_folder = os.listdir(data_dir)\n",
    "total_value_folder = len(value_folder)\n"
   ]
  },
  {
   "cell_type": "code",
   "execution_count": 0,
   "metadata": {
    "colab": {},
    "colab_type": "code",
    "id": "yGQPSGyFF1pA"
   },
   "outputs": [],
   "source": [
    "def atof(text):\n",
    "    try:\n",
    "        retval = float(text)\n",
    "    except ValueError:\n",
    "        retval = text\n",
    "    return retval\n",
    "\n",
    "def natural_keys(text):\n",
    "    \n",
    "    return [ atof(c) for c in re.split(r'[+-_]?([0-9]+(?:[.][0-9]*)?|[.][0-9]+)', text) ]"
   ]
  },
  {
   "cell_type": "code",
   "execution_count": 0,
   "metadata": {
    "colab": {},
    "colab_type": "code",
    "id": "-j0HCAg9F1pE"
   },
   "outputs": [],
   "source": [
    "value_folder.sort(key=natural_keys)\n"
   ]
  },
  {
   "cell_type": "code",
   "execution_count": 0,
   "metadata": {
    "colab": {},
    "colab_type": "code",
    "id": "VU_FlA_nF1pH"
   },
   "outputs": [],
   "source": [
    "X_train, Y_train = [], []\n",
    "X_test, Y_test = [], []\n"
   ]
  },
  {
   "cell_type": "code",
   "execution_count": 0,
   "metadata": {
    "colab": {},
    "colab_type": "code",
    "id": "85x5KiNvF1pK"
   },
   "outputs": [],
   "source": [
    "# Iterate through the list of subfolders (subjects)\n",
    "# Idx is the subject ID\n",
    "idx = 0\n",
    "for a in range (0,300,6):\n",
    "    for train in range(4):\n",
    "        img = load_img(os.path.join(data_dir,value_folder[a+train]))\n",
    "        img = img_to_array(img).astype('float32')/255\n",
    "        X_train.append(img)\n",
    "        Y_train.append(idx)\n",
    "    for test in range(4,6):\n",
    "        img = load_img(os.path.join(data_dir,value_folder[a+test]))\n",
    "        img = img_to_array(img).astype('float32')/255\n",
    "        X_test.append(img)\n",
    "        Y_test.append(idx)\n",
    "    idx=idx+1    "
   ]
  },
  {
   "cell_type": "code",
   "execution_count": 0,
   "metadata": {
    "colab": {},
    "colab_type": "code",
    "id": "FMTxPGeJF1pN"
   },
   "outputs": [],
   "source": [
    "\n",
    "X_train = np.array(X_train)\n",
    "X_test = np.array(X_test)\n",
    "Y_train = np.array(Y_train)\n",
    "Y_test = np.array(Y_test)\n",
    "\n"
   ]
  },
  {
   "cell_type": "code",
   "execution_count": 46,
   "metadata": {
    "colab": {
     "base_uri": "https://localhost:8080/",
     "height": 34
    },
    "colab_type": "code",
    "id": "c_w97LkxF1pS",
    "outputId": "aba0ab51-ff8e-4aea-8993-d1815941e5c0"
   },
   "outputs": [
    {
     "name": "stdout",
     "output_type": "stream",
     "text": [
      "200 100\n"
     ]
    }
   ],
   "source": [
    "print (len(X_train),len(X_test))"
   ]
  },
  {
   "cell_type": "code",
   "execution_count": 0,
   "metadata": {
    "colab": {},
    "colab_type": "code",
    "id": "LXLKv_w1F1pX"
   },
   "outputs": [],
   "source": [
    "num_classes = len(np.unique(Y_train))\n"
   ]
  },
  {
   "cell_type": "code",
   "execution_count": 0,
   "metadata": {
    "colab": {},
    "colab_type": "code",
    "id": "j9JiwSoQF1pa"
   },
   "outputs": [],
   "source": [
    "def euclidean_distance(vectors):\n",
    "    vector1, vector2 = vectors\n",
    "    sum_square = tf.reduce_sum(tf.square(vector1 - vector2), axis=1, keepdims=True)\n",
    "    return tf.sqrt(tf.maximum(sum_square, tf.keras.backend.epsilon())) \n",
    "\n",
    "def contrastive_loss(Y_true,D):\n",
    "    margin = 1\n",
    "    loss= tf.reduce_mean(Y_true*tf.math.square(D)+(1 - Y_true)*tf.math.maximum((margin-D),0))\n",
    "    return loss\n"
   ]
  },
  {
   "cell_type": "code",
   "execution_count": 0,
   "metadata": {
    "colab": {},
    "colab_type": "code",
    "id": "XHjbJXW3F1pe"
   },
   "outputs": [],
   "source": [
    "def SiameseNetwork(ukuran):\n",
    "    model = tf.keras.Sequential([\n",
    "    tf.keras.layers.Conv2D(64, (3,3), activation='relu', input_shape=ukuran),\n",
    "    tf.keras.layers.MaxPooling2D(2,2),\n",
    "    tf.keras.layers.Conv2D(64, (3,3), activation='relu'),\n",
    "    tf.keras.layers.MaxPooling2D(2,2),\n",
    "    tf.keras.layers.Conv2D(64, (3,3), activation='relu'),\n",
    "    tf.keras.layers.MaxPooling2D(2,2),\n",
    "    tf.keras.layers.Flatten(),\n",
    "    tf.keras.layers.Dense(128, activation='sigmoid')])\n",
    "    \n",
    "    return model\n",
    "        "
   ]
  },
  {
   "cell_type": "code",
   "execution_count": 50,
   "metadata": {
    "colab": {
     "base_uri": "https://localhost:8080/",
     "height": 425
    },
    "colab_type": "code",
    "id": "Ckx1-leoF1ph",
    "outputId": "b33d2b8f-8dc2-45d6-f2a7-e5286c0da675"
   },
   "outputs": [
    {
     "name": "stdout",
     "output_type": "stream",
     "text": [
      "Model: \"sequential_1\"\n",
      "_________________________________________________________________\n",
      "Layer (type)                 Output Shape              Param #   \n",
      "=================================================================\n",
      "conv2d_5 (Conv2D)            (None, 126, 126, 64)      1792      \n",
      "_________________________________________________________________\n",
      "max_pooling2d_5 (MaxPooling2 (None, 63, 63, 64)        0         \n",
      "_________________________________________________________________\n",
      "conv2d_6 (Conv2D)            (None, 61, 61, 64)        36928     \n",
      "_________________________________________________________________\n",
      "max_pooling2d_6 (MaxPooling2 (None, 30, 30, 64)        0         \n",
      "_________________________________________________________________\n",
      "conv2d_7 (Conv2D)            (None, 28, 28, 64)        36928     \n",
      "_________________________________________________________________\n",
      "max_pooling2d_7 (MaxPooling2 (None, 14, 14, 64)        0         \n",
      "_________________________________________________________________\n",
      "flatten_1 (Flatten)          (None, 12544)             0         \n",
      "_________________________________________________________________\n",
      "dense_1 (Dense)              (None, 128)               1605760   \n",
      "=================================================================\n",
      "Total params: 1,681,408\n",
      "Trainable params: 1,681,408\n",
      "Non-trainable params: 0\n",
      "_________________________________________________________________\n"
     ]
    }
   ],
   "source": [
    "ukuran=(128,128,3)\n",
    "tf.random.set_seed(100)\n",
    "shared_network = SiameseNetwork(ukuran)\n",
    "shared_network.summary()"
   ]
  },
  {
   "cell_type": "code",
   "execution_count": 51,
   "metadata": {
    "colab": {
     "base_uri": "https://localhost:8080/",
     "height": 323
    },
    "colab_type": "code",
    "id": "SIukp4uzF1pk",
    "outputId": "d8ff1add-4976-4176-b827-5f83239ee497"
   },
   "outputs": [
    {
     "name": "stdout",
     "output_type": "stream",
     "text": [
      "Model: \"model_1\"\n",
      "__________________________________________________________________________________________________\n",
      "Layer (type)                    Output Shape         Param #     Connected to                     \n",
      "==================================================================================================\n",
      "input_3 (InputLayer)            [(None, 128, 128, 3) 0                                            \n",
      "__________________________________________________________________________________________________\n",
      "input_4 (InputLayer)            [(None, 128, 128, 3) 0                                            \n",
      "__________________________________________________________________________________________________\n",
      "sequential_1 (Sequential)       (None, 128)          1681408     input_3[0][0]                    \n",
      "                                                                 input_4[0][0]                    \n",
      "__________________________________________________________________________________________________\n",
      "lambda_1 (Lambda)               (None, 1)            0           sequential_1[1][0]               \n",
      "                                                                 sequential_1[2][0]               \n",
      "==================================================================================================\n",
      "Total params: 1,681,408\n",
      "Trainable params: 1,681,408\n",
      "Non-trainable params: 0\n",
      "__________________________________________________________________________________________________\n"
     ]
    }
   ],
   "source": [
    "input_top = tf.keras.Input(shape=ukuran)\n",
    "input_bottom = tf.keras.Input(shape=ukuran)\n",
    "output_top = shared_network(input_top)\n",
    "output_bottom = shared_network(input_bottom)\n",
    "\n",
    "distance = Lambda(euclidean_distance, output_shape=(1,))([output_top,output_bottom])  \n",
    "model = tf.keras.Model(inputs=[input_top, input_bottom], outputs=distance)\n",
    "\n",
    "model.summary()"
   ]
  },
  {
   "cell_type": "code",
   "execution_count": 0,
   "metadata": {
    "colab": {},
    "colab_type": "code",
    "id": "mmOnztAvF1po"
   },
   "outputs": [],
   "source": [
    "def create_pairs(X,Y, num_classes):\n",
    "    pairs, labels = [], []\n",
    "    # index of images in X and Y for each class\n",
    "    class_idx = [np.where(Y==i)[0] for i in range(num_classes)]\n",
    "    # The minimum number of images across all classes\n",
    "    min_images = min(len(class_idx[i]) for i in range(num_classes)) - 1\n",
    "    for c in range(num_classes):\n",
    "        for n in range(min_images):\n",
    "            # create positive pair\n",
    "            img1 = X[class_idx[c][n]]\n",
    "            img2 = X[class_idx[c][n+1]]\n",
    "            pairs.append((img1, img2))\n",
    "            labels.append(1)\n",
    "            # create negative pair\n",
    "            # list of classes that are different from the current class\n",
    "            neg_list = list(range(num_classes))\n",
    "            neg_list.remove(c)\n",
    "            # select a random class from the negative list.\n",
    "            # This class will be used to form the negative pair.\n",
    "            neg_c = random.sample(neg_list,1)[0]\n",
    "            img1 = X[class_idx[c][n]]\n",
    "            img2 = X[class_idx[neg_c][n]]\n",
    "            pairs.append((img1,img2))\n",
    "            labels.append(0)\n",
    "    return np.array(pairs), np.array(labels)\n",
    "\n",
    "\n",
    "num_classes = len(np.unique(Y_train))\n",
    "training_pairs, training_labels = create_pairs(X_train, Y_train,len(np.unique(Y_train)))\n",
    "test_pairs, test_labels = create_pairs(X_test, Y_test,len(np.unique(Y_test)))"
   ]
  },
  {
   "cell_type": "code",
   "execution_count": 0,
   "metadata": {
    "colab": {},
    "colab_type": "code",
    "id": "PHHuDOnUF1pr"
   },
   "outputs": [],
   "source": [
    "model.compile(loss=contrastive_loss, optimizer='adam')"
   ]
  },
  {
   "cell_type": "code",
   "execution_count": 54,
   "metadata": {
    "colab": {
     "base_uri": "https://localhost:8080/",
     "height": 714
    },
    "colab_type": "code",
    "id": "9zwQ80LkF1pv",
    "outputId": "7b0953af-fca2-4595-be74-d278e94ca5f3"
   },
   "outputs": [
    {
     "name": "stdout",
     "output_type": "stream",
     "text": [
      "Epoch 1/20\n",
      "5/5 [==============================] - 17s 3s/step - loss: 0.2740\n",
      "Epoch 2/20\n",
      "5/5 [==============================] - 18s 4s/step - loss: 0.1356\n",
      "Epoch 3/20\n",
      "5/5 [==============================] - 17s 3s/step - loss: 0.0934\n",
      "Epoch 4/20\n",
      "5/5 [==============================] - 17s 3s/step - loss: 0.0548\n",
      "Epoch 5/20\n",
      "5/5 [==============================] - 17s 3s/step - loss: 0.0533\n",
      "Epoch 6/20\n",
      "5/5 [==============================] - 21s 4s/step - loss: 0.0465\n",
      "Epoch 7/20\n",
      "5/5 [==============================] - 17s 3s/step - loss: 0.0338\n",
      "Epoch 8/20\n",
      "5/5 [==============================] - 17s 3s/step - loss: 0.0311\n",
      "Epoch 9/20\n",
      "5/5 [==============================] - 17s 3s/step - loss: 0.0231\n",
      "Epoch 10/20\n",
      "5/5 [==============================] - 18s 4s/step - loss: 0.0228\n",
      "Epoch 11/20\n",
      "5/5 [==============================] - 18s 4s/step - loss: 0.0164\n",
      "Epoch 12/20\n",
      "5/5 [==============================] - 18s 4s/step - loss: 0.0149\n",
      "Epoch 13/20\n",
      "5/5 [==============================] - 18s 4s/step - loss: 0.0132\n",
      "Epoch 14/20\n",
      "5/5 [==============================] - 17s 3s/step - loss: 0.0099\n",
      "Epoch 15/20\n",
      "5/5 [==============================] - 17s 3s/step - loss: 0.0090\n",
      "Epoch 16/20\n",
      "5/5 [==============================] - 18s 4s/step - loss: 0.0074\n",
      "Epoch 17/20\n",
      "5/5 [==============================] - 18s 4s/step - loss: 0.0064\n",
      "Epoch 18/20\n",
      "5/5 [==============================] - 18s 4s/step - loss: 0.0059\n",
      "Epoch 19/20\n",
      "5/5 [==============================] - 18s 4s/step - loss: 0.0058\n",
      "Epoch 20/20\n",
      "5/5 [==============================] - 17s 3s/step - loss: 0.0046\n"
     ]
    },
    {
     "data": {
      "text/plain": [
       "<tensorflow.python.keras.callbacks.History at 0x7fa85ebe0e80>"
      ]
     },
     "execution_count": 54,
     "metadata": {
      "tags": []
     },
     "output_type": "execute_result"
    }
   ],
   "source": [
    "model.fit([training_pairs[:, 0], training_pairs[:, 1]], training_labels,batch_size=64, epochs=20)"
   ]
  },
  {
   "cell_type": "code",
   "execution_count": 0,
   "metadata": {
    "colab": {},
    "colab_type": "code",
    "id": "C-8ls9IXF1px"
   },
   "outputs": [],
   "source": [
    "data_for_matching = []\n",
    "\n",
    "for a in range(0,300,6):\n",
    "    img = load_img(os.path.join(data_dir,value_folder[a]))\n",
    "    img = img_to_array(img).astype('float32')/255\n",
    "    data_for_matching.append(img)\n",
    "    \n",
    "data_for_matching = np.array(data_for_matching)\n",
    "\n",
    "print (len(data_for_matching))"
   ]
  },
  {
   "cell_type": "code",
   "execution_count": 0,
   "metadata": {
    "colab": {},
    "colab_type": "code",
    "id": "t2QkqZs0F1p2"
   },
   "outputs": [],
   "source": [
    "kamus = dict({0: 'm-1', 1: 'm-2',\n",
    "              2: 'm-3', 3: 'm-4',\n",
    "              4: 'm-5', 5: 'm-6',\n",
    "              6: 'm-7', 7: 'm-8',\n",
    "              8: 'm-9', 9: 'm-10',\n",
    "              10: 'm-11',11: 'm-12',\n",
    "              12: 'm-13',13: 'm-14',\n",
    "              14: 'm-15',15: 'm-16',\n",
    "              16: 'm-17',17: 'm-18',\n",
    "              18: 'm-19',19: 'm-20',\n",
    "              \n",
    "              20: 'm-21', 21: 'm-22',\n",
    "              22: 'm-23', 23: 'm-24',\n",
    "              24: 'm-25', 25: 'm-26',\n",
    "              26: 'm-27', 27: 'm-28',\n",
    "              28: 'm-29', 29: 'm-30',\n",
    "              30: 'm-31', 31: 'm-32',\n",
    "              32: 'm-33', 33: 'm-34',\n",
    "              34: 'm-35', 35: 'm-36',\n",
    "              36: 'm-37', 37: 'm-38',\n",
    "              38: 'm-39', 39: 'm-40',\n",
    "               \n",
    "              40: 'm-41', 41: 'm-42',\n",
    "              42: 'm-43', 43: 'm-44',\n",
    "              44: 'm-45', 45: 'm-46',\n",
    "              46: 'm-47', 47: 'm-48',\n",
    "              48: 'm-49', 49: 'm-50'})\n"
   ]
  },
  {
   "cell_type": "code",
   "execution_count": 57,
   "metadata": {
    "colab": {
     "base_uri": "https://localhost:8080/",
     "height": 1000
    },
    "colab_type": "code",
    "id": "2-2_Eyt6F1p5",
    "outputId": "2ae054c0-b7b6-4694-dd5d-d334e4158ce3"
   },
   "outputs": [
    {
     "name": "stdout",
     "output_type": "stream",
     "text": [
      "File :  B1_5.jpg model :  m-1 , predicted result :  m-1\n",
      "File :  B1_6.jpg model :  m-1 , predicted result :  m-1\n",
      "File :  B2_5.jpg model :  m-2 , predicted result :  m-2\n",
      "File :  B2_6.jpg model :  m-2 , predicted result :  m-2\n",
      "File :  B3_5.jpg model :  m-3 , predicted result :  m-3\n",
      "File :  B3_6.jpg model :  m-3 , predicted result :  m-3\n",
      "File :  B4_5.jpg model :  m-4 , predicted result :  m-4\n",
      "File :  B4_6.jpg model :  m-4 , predicted result :  m-4\n",
      "File :  B5_5.jpg model :  m-5 , predicted result :  m-5\n",
      "File :  B5_6.jpg model :  m-5 , predicted result :  m-5\n",
      "File :  B6_5.jpg model :  m-6 , predicted result :  m-6\n",
      "File :  B6_6.jpg model :  m-6 , predicted result :  m-6\n",
      "File :  B7_5.jpg model :  m-7 , predicted result :  m-7\n",
      "File :  B7_6.jpg model :  m-7 , predicted result :  m-7\n",
      "File :  B8_5.jpg model :  m-8 , predicted result :  m-8\n",
      "File :  B8_6.jpg model :  m-8 , predicted result :  m-8\n",
      "File :  B9_5.jpg model :  m-9 , predicted result :  m-9\n",
      "File :  B9_6.jpg model :  m-9 , predicted result :  m-9\n",
      "File :  B10_5.jpg model :  m-10 , predicted result :  m-10\n",
      "File :  B10_6.jpg model :  m-10 , predicted result :  m-9\n",
      "File :  B11_5.jpg model :  m-11 , predicted result :  m-11\n",
      "File :  B11_6.jpg model :  m-11 , predicted result :  m-11\n",
      "File :  B12_5.jpg model :  m-12 , predicted result :  m-12\n",
      "File :  B12_6.jpg model :  m-12 , predicted result :  m-12\n",
      "File :  B13_5.jpg model :  m-13 , predicted result :  m-1\n",
      "File :  B13_6.jpg model :  m-13 , predicted result :  m-1\n",
      "File :  B14_5.jpg model :  m-14 , predicted result :  m-14\n",
      "File :  B14_6.jpg model :  m-14 , predicted result :  m-14\n",
      "File :  B15_5.jpg model :  m-15 , predicted result :  m-15\n",
      "File :  B15_6.jpg model :  m-15 , predicted result :  m-15\n",
      "File :  B16_5.jpg model :  m-16 , predicted result :  m-16\n",
      "File :  B16_6.jpg model :  m-16 , predicted result :  m-16\n",
      "File :  B17_5.jpg model :  m-17 , predicted result :  m-17\n",
      "File :  B17_6.jpg model :  m-17 , predicted result :  m-17\n",
      "File :  B18_5.jpg model :  m-18 , predicted result :  m-18\n",
      "File :  B18_6.jpg model :  m-18 , predicted result :  m-18\n",
      "File :  B19_5.jpg model :  m-19 , predicted result :  m-19\n",
      "File :  B19_6.jpg model :  m-19 , predicted result :  m-19\n",
      "File :  B20_5.jpg model :  m-20 , predicted result :  m-20\n",
      "File :  B20_6.jpg model :  m-20 , predicted result :  m-20\n",
      "File :  B21_5.jpg model :  m-21 , predicted result :  m-20\n",
      "File :  B21_6.jpg model :  m-21 , predicted result :  m-21\n",
      "File :  B22_5.jpg model :  m-22 , predicted result :  m-22\n",
      "File :  B22_6.jpg model :  m-22 , predicted result :  m-22\n",
      "File :  B23_5.jpg model :  m-23 , predicted result :  m-23\n",
      "File :  B23_6.jpg model :  m-23 , predicted result :  m-23\n",
      "File :  B24_5.jpg model :  m-24 , predicted result :  m-24\n",
      "File :  B24_6.jpg model :  m-24 , predicted result :  m-24\n",
      "File :  B25_5.jpg model :  m-25 , predicted result :  m-25\n",
      "File :  B25_6.jpg model :  m-25 , predicted result :  m-25\n",
      "File :  B26_5.jpg model :  m-26 , predicted result :  m-26\n",
      "File :  B26_6.jpg model :  m-26 , predicted result :  m-26\n",
      "File :  B27_5.jpg model :  m-27 , predicted result :  m-8\n",
      "File :  B27_6.jpg model :  m-27 , predicted result :  m-27\n",
      "File :  B28_5.jpg model :  m-28 , predicted result :  m-28\n",
      "File :  B28_6.jpg model :  m-28 , predicted result :  m-28\n",
      "File :  B29_5.jpg model :  m-29 , predicted result :  m-31\n",
      "File :  B29_6.jpg model :  m-29 , predicted result :  m-29\n",
      "File :  B30_5.jpg model :  m-30 , predicted result :  m-30\n",
      "File :  B30_6.jpg model :  m-30 , predicted result :  m-30\n",
      "File :  B31_5.jpg model :  m-31 , predicted result :  m-31\n",
      "File :  B31_6.jpg model :  m-31 , predicted result :  m-31\n",
      "File :  B32_5.jpg model :  m-32 , predicted result :  m-32\n",
      "File :  B32_6.jpg model :  m-32 , predicted result :  m-32\n",
      "File :  B33_5.jpg model :  m-33 , predicted result :  m-33\n",
      "File :  B33_6.jpg model :  m-33 , predicted result :  m-33\n",
      "File :  B34_5.jpg model :  m-34 , predicted result :  m-16\n",
      "File :  B34_6.jpg model :  m-34 , predicted result :  m-16\n",
      "File :  B35_5.jpg model :  m-35 , predicted result :  m-35\n",
      "File :  B35_6.jpg model :  m-35 , predicted result :  m-35\n",
      "File :  B36_5.jpg model :  m-36 , predicted result :  m-36\n",
      "File :  B36_6.jpg model :  m-36 , predicted result :  m-36\n",
      "File :  B37_5.jpg model :  m-37 , predicted result :  m-30\n",
      "File :  B37_6.jpg model :  m-37 , predicted result :  m-37\n",
      "File :  B38_5.jpg model :  m-38 , predicted result :  m-24\n",
      "File :  B38_6.jpg model :  m-38 , predicted result :  m-38\n",
      "File :  B39_5.jpg model :  m-39 , predicted result :  m-39\n",
      "File :  B39_6.jpg model :  m-39 , predicted result :  m-39\n",
      "File :  B40_5.jpg model :  m-40 , predicted result :  m-40\n",
      "File :  B40_6.jpg model :  m-40 , predicted result :  m-40\n",
      "File :  B41_5.jpg model :  m-41 , predicted result :  m-41\n",
      "File :  B41_6.jpg model :  m-41 , predicted result :  m-41\n",
      "File :  B42_5.jpg model :  m-42 , predicted result :  m-42\n",
      "File :  B42_6.jpg model :  m-42 , predicted result :  m-42\n",
      "File :  B43_5.jpg model :  m-43 , predicted result :  m-43\n",
      "File :  B43_6.jpg model :  m-43 , predicted result :  m-43\n",
      "File :  B44_5.jpg model :  m-44 , predicted result :  m-44\n",
      "File :  B44_6.jpg model :  m-44 , predicted result :  m-44\n",
      "File :  B45_5.jpg model :  m-45 , predicted result :  m-45\n",
      "File :  B45_6.jpg model :  m-45 , predicted result :  m-45\n",
      "File :  B46_5.jpg model :  m-46 , predicted result :  m-46\n",
      "File :  B46_6.jpg model :  m-46 , predicted result :  m-46\n",
      "File :  B47_5.jpg model :  m-47 , predicted result :  m-47\n",
      "File :  B47_6.jpg model :  m-47 , predicted result :  m-47\n",
      "File :  B48_5.jpg model :  m-48 , predicted result :  m-48\n",
      "File :  B48_6.jpg model :  m-48 , predicted result :  m-48\n",
      "File :  B49_5.jpg model :  m-49 , predicted result :  m-49\n",
      "File :  B49_6.jpg model :  m-49 , predicted result :  m-10\n",
      "File :  B50_5.jpg model :  m-50 , predicted result :  m-50\n",
      "File :  B50_6.jpg model :  m-50 , predicted result :  m-50\n"
     ]
    }
   ],
   "source": [
    "hitung_true=0\n",
    "hitung_false=0\n",
    "nama_kelas=1\n",
    "for a in range(0,300,6):\n",
    "    for b in range (4,6):\n",
    "        hasil=[]\n",
    "        img_test = load_img(os.path.join(data_dir,value_folder[a+b]))\n",
    "        img_test = img_to_array(img_test).astype('float32')/255\n",
    "        img_test = np.array(img_test)\n",
    "        img_test = np.expand_dims(img_test, axis=0)\n",
    "        for c in range(len(data_for_matching)):\n",
    "            image_data = data_for_matching[c]\n",
    "            image_data = np.expand_dims(image_data, axis=0)\n",
    "            dissimilarity = model.predict([image_data, img_test])[0][0]\n",
    "            hasil.append(dissimilarity)\n",
    "            nilai_terendah = np.argmin(hasil)\n",
    "        print (\"File : \",value_folder[a+b],\"model : \",kamus[nama_kelas-1],\", predicted result : \",kamus[nilai_terendah])\n",
    "        if nama_kelas-1 == nilai_terendah:\n",
    "            hitung_true = hitung_true+1\n",
    "        else:\n",
    "            hitung_false=hitung_false+1\n",
    "    nama_kelas=nama_kelas+1"
   ]
  },
  {
   "cell_type": "code",
   "execution_count": 58,
   "metadata": {
    "colab": {
     "base_uri": "https://localhost:8080/",
     "height": 34
    },
    "colab_type": "code",
    "id": "HifKqvNhF1p8",
    "outputId": "086299be-df38-4eab-cb1c-12cf626b66dc"
   },
   "outputs": [
    {
     "name": "stdout",
     "output_type": "stream",
     "text": [
      "True predicted :  89  False predicted:  11\n"
     ]
    }
   ],
   "source": [
    "print (\"True predicted : \",hitung_true,\" False predicted: \",hitung_false)\n"
   ]
  },
  {
   "cell_type": "code",
   "execution_count": 0,
   "metadata": {
    "colab": {},
    "colab_type": "code",
    "id": "3BX2AaHNF1qD"
   },
   "outputs": [],
   "source": [
    "model.save('recognize_batik-siamese-final.h5')"
   ]
  },
  {
   "cell_type": "code",
   "execution_count": 0,
   "metadata": {
    "colab": {},
    "colab_type": "code",
    "id": "H-DFpwZUF1qI"
   },
   "outputs": [],
   "source": []
  },
  {
   "cell_type": "code",
   "execution_count": 0,
   "metadata": {
    "colab": {},
    "colab_type": "code",
    "id": "qJND8aZfF1qN"
   },
   "outputs": [],
   "source": []
  }
 ],
 "metadata": {
  "accelerator": "TPU",
  "colab": {
   "collapsed_sections": [],
   "name": "MySiameseNetwork-batik-final.ipynb",
   "provenance": []
  },
  "kernelspec": {
   "display_name": "Python 3",
   "language": "python",
   "name": "python3"
  },
  "language_info": {
   "codemirror_mode": {
    "name": "ipython",
    "version": 3
   },
   "file_extension": ".py",
   "mimetype": "text/x-python",
   "name": "python",
   "nbconvert_exporter": "python",
   "pygments_lexer": "ipython3",
   "version": "3.6.8"
  }
 },
 "nbformat": 4,
 "nbformat_minor": 1
}
