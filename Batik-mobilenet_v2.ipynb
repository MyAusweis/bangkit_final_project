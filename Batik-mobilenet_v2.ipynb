{
 "cells": [
  {
   "cell_type": "code",
   "execution_count": 1,
   "metadata": {
    "colab": {},
    "colab_type": "code",
    "id": "CpThSS7V19GF"
   },
   "outputs": [],
   "source": [
    "import os\n",
    "import re\n",
    "import tensorflow as tf\n",
    "from tensorflow.keras import layers\n",
    "from tensorflow.keras import Model\n",
    "from tensorflow.keras.preprocessing.image import ImageDataGenerator"
   ]
  },
  {
   "cell_type": "code",
   "execution_count": 2,
   "metadata": {
    "colab": {},
    "colab_type": "code",
    "id": "1xJZ5glPPCRz"
   },
   "outputs": [],
   "source": [
    "ukuran = (128,128,3)\n",
    "t_size = (299,299)\n",
    "\n",
    "base_model = tf.keras.applications.VGG16(input_shape=ukuran,\n",
    "                                               include_top=False,\n",
    "                                               weights='imagenet')\n",
    "base_model.trainable=False  \n",
    "  \n",
    "#for i, layer in enumerate(base_model.layers):\n",
    "#  print(i, layer.name)"
   ]
  },
  {
   "cell_type": "code",
   "execution_count": 3,
   "metadata": {
    "colab": {},
    "colab_type": "code",
    "id": "-bsWZWp5oMq9"
   },
   "outputs": [],
   "source": [
    "# Define a Callback class that stops training once accuracy reaches 97.0%\n",
    "class myCallback(tf.keras.callbacks.Callback):\n",
    "  def on_epoch_end(self, epoch, logs={}):\n",
    "    if(logs.get('acc')>0.97):\n",
    "      print(\"\\nReached aroud 0.95 accuracy so cancelling training!\")\n",
    "      self.model.stop_training = True\n",
    "\n"
   ]
  },
  {
   "cell_type": "code",
   "execution_count": 4,
   "metadata": {
    "colab": {},
    "colab_type": "code",
    "id": "BMXb913pbvFg"
   },
   "outputs": [],
   "source": [
    "from tensorflow.keras.optimizers import Adam,RMSprop,SGD\n",
    "\n",
    "x = base_model.output\n",
    "x = tf.keras.layers.GlobalAveragePooling2D()(x)\n",
    "preds = tf.keras.layers.Dense(50, activation='softmax') (x)\n",
    "\n",
    "model = tf.keras.models.Model(inputs=base_model.input, outputs=preds)\n",
    "\n",
    "base_learning_rate = 0.0001\n",
    "model.compile(optimizer = Adam(),\n",
    "              loss = 'categorical_crossentropy', \n",
    "              metrics = ['acc'])\n",
    "\n"
   ]
  },
  {
   "cell_type": "code",
   "execution_count": 5,
   "metadata": {
    "colab": {},
    "colab_type": "code",
    "id": "y9okX7_ovskI"
   },
   "outputs": [],
   "source": [
    "\n",
    "# Define our example directories and files\n",
    "train_dir = './batik-group/train'\n",
    "test_dir = './batik-group/test'\n",
    "validation_dir = './batik-group/validation'\n"
   ]
  },
  {
   "cell_type": "code",
   "execution_count": 6,
   "metadata": {
    "colab": {
     "base_uri": "https://localhost:8080/",
     "height": 51
    },
    "colab_type": "code",
    "id": "O4s8HckqGlnb",
    "outputId": "29a5993a-a189-492e-a190-ab4d22ae68dc"
   },
   "outputs": [
    {
     "name": "stdout",
     "output_type": "stream",
     "text": [
      "Found 150 images belonging to 50 classes.\n",
      "Found 100 images belonging to 50 classes.\n"
     ]
    }
   ],
   "source": [
    "# Add our data-augmentation parameters to ImageDataGenerator\n",
    "train_datagen = ImageDataGenerator(\n",
    "                                  rescale=1./255,\n",
    "                                  width_shift_range=0.2,\n",
    "                                  height_shift_range=0.2,\n",
    "                                  zoom_range=0.2,\n",
    "                                  shear_range=0.2,\n",
    "                                  horizontal_flip=True,\n",
    "                                  fill_mode='nearest')\n",
    "\n",
    "# Note that the validation data should not be augmented!\n",
    "validation_datagen = ImageDataGenerator(\n",
    "                                  rescale=1./255,\n",
    "                                  width_shift_range=0.2,\n",
    "                                  height_shift_range=0.2,\n",
    "                                  zoom_range=0.2,\n",
    "                                  shear_range=0.2,\n",
    "                                  horizontal_flip=True,\n",
    "                                  fill_mode='nearest')\n",
    "\n",
    "# Flow training images in batches of 20 using train_datagen generator\n",
    "train_generator = train_datagen.flow_from_directory(train_dir,\n",
    "                                                   batch_size=20,\n",
    "                                                   class_mode='categorical',\n",
    "                                                   target_size=t_size)     \n",
    "\n",
    "# Flow validation images in batches of 20 using test_datagen generator\n",
    "validation_generator =  validation_datagen.flow_from_directory( validation_dir,\n",
    "                                                   batch_size=20,\n",
    "                                                   class_mode='categorical',\n",
    "                                                   target_size=t_size)\n",
    "\n"
   ]
  },
  {
   "cell_type": "code",
   "execution_count": 7,
   "metadata": {
    "colab": {
     "base_uri": "https://localhost:8080/",
     "height": 1000
    },
    "colab_type": "code",
    "id": "Blhq2MAUeyGA",
    "outputId": "ca03d4e1-4514-42ce-96e0-e047b7e85472"
   },
   "outputs": [
    {
     "name": "stdout",
     "output_type": "stream",
     "text": [
      "Epoch 1/3\n",
      "100/100 - 217s - loss: 1.3754 - acc: 0.7941 - val_loss: 0.3038 - val_acc: 0.9990\n",
      "Epoch 2/3\n",
      "\n",
      "Reached aroud 0.95 accuracy so cancelling training!\n",
      "100/100 - 221s - loss: 0.1520 - acc: 1.0000 - val_loss: 0.1234 - val_acc: 0.9970\n"
     ]
    }
   ],
   "source": [
    "#1\n",
    "my_epoch = 1\n",
    "callbacks =  myCallback()\n",
    "\n",
    "history = model.fit(train_generator,\n",
    "            validation_data = validation_generator,\n",
    "            steps_per_epoch = 100,\n",
    "            epochs = 3,\n",
    "            validation_steps = 50,\n",
    "            verbose = 2,\n",
    "            callbacks=[callbacks])\n",
    "           "
   ]
  },
  {
   "cell_type": "code",
   "execution_count": 8,
   "metadata": {
    "colab": {},
    "colab_type": "code",
    "id": "aPpcw-PlopxL"
   },
   "outputs": [],
   "source": [
    "acc = history.history['acc']\n",
    "val_acc = history.history['val_acc']\n",
    "loss = history.history['loss']\n",
    "val_loss = history.history['val_loss']\n",
    "model.save(\"recognize-batik-weight-mobilenet.h5\")"
   ]
  },
  {
   "cell_type": "code",
   "execution_count": 9,
   "metadata": {
    "colab": {
     "base_uri": "https://localhost:8080/",
     "height": 298
    },
    "colab_type": "code",
    "id": "C2Fp6Se9rKuL",
    "outputId": "00ff8cad-3a2c-411d-bfde-d9335fe7f4f0"
   },
   "outputs": [
    {
     "data": {
      "image/png": "[encoded data removed]",
      "text/plain": [
       "<Figure size 432x288 with 1 Axes>"
      ]
     },
     "metadata": {
      "needs_background": "light"
     },
     "output_type": "display_data"
    },
    {
     "data": {
      "text/plain": [
       "<Figure size 432x288 with 0 Axes>"
      ]
     },
     "metadata": {},
     "output_type": "display_data"
    }
   ],
   "source": [
    "%matplotlib inline\n",
    "import matplotlib.pyplot as plt\n",
    "\n",
    "epochs = range(len(acc))\n",
    "\n",
    "plt.plot(epochs, acc, 'r', label='Training accuracy')\n",
    "plt.plot(epochs, val_acc, 'b', label='Validation accuracy')\n",
    "plt.title('Training and validation accuracy')\n",
    "plt.legend(loc=0)\n",
    "plt.figure()\n",
    "\n",
    "\n",
    "plt.show()"
   ]
  },
  {
   "cell_type": "code",
   "execution_count": 10,
   "metadata": {},
   "outputs": [],
   "source": [
    "kamus = dict({0: 'm-1', 1: 'm-2',\n",
    "              2: 'm-3', 3: 'm-4',\n",
    "              4: 'm-5', 5: 'm-6',\n",
    "              6: 'm-7', 7: 'm-8',\n",
    "              8: 'm-9', 9: 'm-10',\n",
    "              10: 'm-11',11: 'm-12',\n",
    "              12: 'm-13',13: 'm-14',\n",
    "              14: 'm-15',15: 'm-16',\n",
    "              16: 'm-17',17: 'm-18',\n",
    "              18: 'm-19',19: 'm-20',\n",
    "              \n",
    "              20: 'm-21', 21: 'm-22',\n",
    "              22: 'm-23', 23: 'm-24',\n",
    "              24: 'm-25', 25: 'm-26',\n",
    "              26: 'm-27', 27: 'm-28',\n",
    "              28: 'm-29', 29: 'm-30',\n",
    "              30: 'm-31', 31: 'm-32',\n",
    "              32: 'm-33', 33: 'm-34',\n",
    "              34: 'm-35', 35: 'm-36',\n",
    "              36: 'm-37', 37: 'm-38',\n",
    "              38: 'm-39', 39: 'm-40',\n",
    "               \n",
    "              40: 'm-41', 41: 'm-42',\n",
    "              42: 'm-43', 43: 'm-44',\n",
    "              44: 'm-45', 45: 'm-46',\n",
    "              46: 'm-47', 47: 'm-48',\n",
    "              48: 'm-49', 49: 'm-50'})\n"
   ]
  },
  {
   "cell_type": "code",
   "execution_count": 11,
   "metadata": {},
   "outputs": [],
   "source": [
    "def atof(text):\n",
    "    try:\n",
    "        retval = float(text)\n",
    "    except ValueError:\n",
    "        retval = text\n",
    "    return retval\n",
    "\n",
    "def natural_keys(text):\n",
    "    '''\n",
    "    alist.sort(key=natural_keys) sorts in human order\n",
    "    http://nedbatchelder.com/blog/200712/human_sorting.html\n",
    "    (See Toothy's implementation in the comments)\n",
    "    float regex comes from https://stackoverflow.com/a/12643073/190597\n",
    "    '''\n",
    "\n",
    "    return [ atof(c) for c in re.split(r'[+-_]?([0-9]+(?:[.][0-9]*)?|[.][0-9]+)', text) ]"
   ]
  },
  {
   "cell_type": "code",
   "execution_count": 1,
   "metadata": {},
   "outputs": [],
   "source": [
    "from tensorflow.keras.preprocessing import image\n",
    "import numpy as np\n",
    "\n",
    "\n",
    "def load_image(img_path, show=False):\n",
    "\n",
    "    img = image.load_img(img_path, target_size=(128, 128))\n",
    "    img_tensor = image.img_to_array(img)                    # (height, width, channels)\n",
    "    img_tensor = np.expand_dims(img_tensor, axis=0)         # (1, height, width, channels), add a dimension because the model expects this shape: (batch_size, height, width, channels)\n",
    "    img_tensor /= 255.                                      # imshow expects values in the range [0, 1]\n",
    "\n",
    "    if show:\n",
    "        plt.imshow(img_tensor[0])                           \n",
    "        plt.axis('off')\n",
    "        plt.show()\n",
    "\n",
    "    return img_tensor\n"
   ]
  },
  {
   "cell_type": "code",
   "execution_count": 13,
   "metadata": {},
   "outputs": [],
   "source": [
    "files = []\n",
    "# r=root, d=directories, f = files\n",
    "for r, d, f in os.walk(test_dir):\n",
    "    for file in f:\n",
    "        files.append(os.path.join(r, file))\n",
    "\n",
    "files.sort(key=natural_keys)        \n"
   ]
  },
  {
   "cell_type": "code",
   "execution_count": 14,
   "metadata": {
    "colab": {},
    "colab_type": "code",
    "id": "eLs55N5aqndZ"
   },
   "outputs": [
    {
     "name": "stdout",
     "output_type": "stream",
     "text": [
      "True value      :  m-1\n",
      "Predicted Value :  m-1\n",
      "\n",
      "True value      :  m-2\n",
      "Predicted Value :  m-50\n",
      "\n",
      "True value      :  m-3\n",
      "Predicted Value :  m-37\n",
      "\n",
      "True value      :  m-4\n",
      "Predicted Value :  m-50\n",
      "\n",
      "True value      :  m-5\n",
      "Predicted Value :  m-50\n",
      "\n",
      "True value      :  m-6\n",
      "Predicted Value :  m-34\n",
      "\n",
      "True value      :  m-7\n",
      "Predicted Value :  m-50\n",
      "\n",
      "True value      :  m-8\n",
      "Predicted Value :  m-2\n",
      "\n",
      "True value      :  m-9\n",
      "Predicted Value :  m-50\n",
      "\n",
      "True value      :  m-10\n",
      "Predicted Value :  m-2\n",
      "\n",
      "True value      :  m-11\n",
      "Predicted Value :  m-33\n",
      "\n",
      "True value      :  m-12\n",
      "Predicted Value :  m-4\n",
      "\n",
      "True value      :  m-13\n",
      "Predicted Value :  m-9\n",
      "\n",
      "True value      :  m-14\n",
      "Predicted Value :  m-29\n",
      "\n",
      "True value      :  m-15\n",
      "Predicted Value :  m-9\n",
      "\n",
      "True value      :  m-16\n",
      "Predicted Value :  m-4\n",
      "\n",
      "True value      :  m-17\n",
      "Predicted Value :  m-9\n",
      "\n",
      "True value      :  m-18\n",
      "Predicted Value :  m-50\n",
      "\n",
      "True value      :  m-19\n",
      "Predicted Value :  m-50\n",
      "\n",
      "True value      :  m-20\n",
      "Predicted Value :  m-2\n",
      "\n",
      "True value      :  m-21\n",
      "Predicted Value :  m-14\n",
      "\n",
      "True value      :  m-22\n",
      "Predicted Value :  m-15\n",
      "\n",
      "True value      :  m-23\n",
      "Predicted Value :  m-9\n",
      "\n",
      "True value      :  m-24\n",
      "Predicted Value :  m-29\n",
      "\n",
      "True value      :  m-25\n",
      "Predicted Value :  m-50\n",
      "\n",
      "True value      :  m-26\n",
      "Predicted Value :  m-50\n",
      "\n",
      "True value      :  m-27\n",
      "Predicted Value :  m-29\n",
      "\n",
      "True value      :  m-28\n",
      "Predicted Value :  m-29\n",
      "\n",
      "True value      :  m-29\n",
      "Predicted Value :  m-31\n",
      "\n",
      "True value      :  m-30\n",
      "Predicted Value :  m-50\n",
      "\n",
      "True value      :  m-31\n",
      "Predicted Value :  m-15\n",
      "\n",
      "True value      :  m-32\n",
      "Predicted Value :  m-29\n",
      "\n",
      "True value      :  m-33\n",
      "Predicted Value :  m-4\n",
      "\n",
      "True value      :  m-34\n",
      "Predicted Value :  m-28\n",
      "\n",
      "True value      :  m-35\n",
      "Predicted Value :  m-29\n",
      "\n",
      "True value      :  m-36\n",
      "Predicted Value :  m-30\n",
      "\n",
      "True value      :  m-37\n",
      "Predicted Value :  m-31\n",
      "\n",
      "True value      :  m-38\n",
      "Predicted Value :  m-4\n",
      "\n",
      "True value      :  m-39\n",
      "Predicted Value :  m-50\n",
      "\n",
      "True value      :  m-40\n",
      "Predicted Value :  m-42\n",
      "\n",
      "True value      :  m-41\n",
      "Predicted Value :  m-2\n",
      "\n",
      "True value      :  m-42\n",
      "Predicted Value :  m-2\n",
      "\n",
      "True value      :  m-43\n",
      "Predicted Value :  m-29\n",
      "\n",
      "True value      :  m-44\n",
      "Predicted Value :  m-31\n",
      "\n",
      "True value      :  m-45\n",
      "Predicted Value :  m-29\n",
      "\n",
      "True value      :  m-46\n",
      "Predicted Value :  m-2\n",
      "\n",
      "True value      :  m-47\n",
      "Predicted Value :  m-22\n",
      "\n",
      "True value      :  m-48\n",
      "Predicted Value :  m-29\n",
      "\n",
      "True value      :  m-49\n",
      "Predicted Value :  m-9\n",
      "\n",
      "True value      :  m-50\n",
      "Predicted Value :  m-43\n",
      "\n"
     ]
    }
   ],
   "source": [
    "hitung_true=0\n",
    "hitung_false=0\n",
    "for a in range (50):\n",
    "    new_image = load_image(files[a])\n",
    "    pred = model.predict(new_image)\n",
    "    hasil_pred = np.argmax(pred)\n",
    "    print (\"True value      : \",kamus[a])\n",
    "    print (\"Predicted Value : \",kamus[hasil_pred])\n",
    "    \n",
    "    if a==hasil_pred:\n",
    "        hitung_true=hitung_true+1\n",
    "    else:\n",
    "        hitung_false=hitung_false+1\n",
    "    print ()\n",
    "    \n"
   ]
  },
  {
   "cell_type": "code",
   "execution_count": 15,
   "metadata": {
    "colab": {},
    "colab_type": "code",
    "id": "1sPexPB-qndf"
   },
   "outputs": [
    {
     "name": "stdout",
     "output_type": "stream",
     "text": [
      "Total True predicted:  1\n",
      "Total False predicted:  49\n"
     ]
    }
   ],
   "source": [
    "print(\"Total True predicted: \",hitung_true)    \n",
    "print(\"Total False predicted: \",hitung_false)"
   ]
  },
  {
   "cell_type": "code",
   "execution_count": null,
   "metadata": {},
   "outputs": [],
   "source": []
  }
 ],
 "metadata": {
  "accelerator": "TPU",
  "colab": {
   "collapsed_sections": [],
   "name": "Mydetection-ibean-no-weights.ipynb",
   "provenance": []
  },
  "coursera": {
   "course_slug": "convolutional-neural-networks-tensorflow",
   "graded_item_id": "csg1x",
   "launcher_item_id": "GpKYz"
  },
  "kernelspec": {
   "display_name": "Python 3",
   "language": "python",
   "name": "python3"
  },
  "language_info": {
   "codemirror_mode": {
    "name": "ipython",
    "version": 3
   },
   "file_extension": ".py",
   "mimetype": "text/x-python",
   "name": "python",
   "nbconvert_exporter": "python",
   "pygments_lexer": "ipython3",
   "version": "3.6.8"
  }
 },
 "nbformat": 4,
 "nbformat_minor": 1
}
